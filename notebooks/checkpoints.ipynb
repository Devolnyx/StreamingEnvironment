{
 "cells": [
  {
   "cell_type": "code",
   "execution_count": 1,
   "id": "acbabb98-c8b7-43c9-a3aa-7e807ee32314",
   "metadata": {},
   "outputs": [],
   "source": [
    "from pyspark.sql import SparkSession, functions as F\n",
    "import os\n",
    "\n",
    "spark_version = '3.4.1'\n",
    "os.environ['PYSPARK_SUBMIT_ARGS'] = f'--packages org.apache.spark:spark-streaming-kafka-0-10_2.12:{spark_version},org.apache.spark:spark-sql-kafka-0-10_2.12:{spark_version} pyspark-shell'\n",
    "\n",
    "import findspark\n",
    "findspark.init(os.environ['SPARK_HOME'] )"
   ]
  },
  {
   "cell_type": "code",
   "execution_count": 2,
   "id": "a65ac159-ee5c-4813-82fc-1737291f8abe",
   "metadata": {},
   "outputs": [],
   "source": [
    "spark = SparkSession.builder.appName('APP').config('hive.exec.dynamic.partition.mode', 'nonstrict').enableHiveSupport().getOrCreate()"
   ]
  },
  {
   "cell_type": "code",
   "execution_count": 3,
   "id": "f35a7a2f-544a-4baf-89e0-922e10b89839",
   "metadata": {},
   "outputs": [
    {
     "data": {
      "text/html": [
       "\n",
       "            <div>\n",
       "                <p><b>SparkSession - hive</b></p>\n",
       "                \n",
       "        <div>\n",
       "            <p><b>SparkContext</b></p>\n",
       "\n",
       "            <p><a href=\"http://dd9d212d8fce:4040\">Spark UI</a></p>\n",
       "\n",
       "            <dl>\n",
       "              <dt>Version</dt>\n",
       "                <dd><code>v3.4.1</code></dd>\n",
       "              <dt>Master</dt>\n",
       "                <dd><code>local[*]</code></dd>\n",
       "              <dt>AppName</dt>\n",
       "                <dd><code>APP</code></dd>\n",
       "            </dl>\n",
       "        </div>\n",
       "        \n",
       "            </div>\n",
       "        "
      ],
      "text/plain": [
       "<pyspark.sql.session.SparkSession at 0x7f4bd30f1dd0>"
      ]
     },
     "execution_count": 3,
     "metadata": {},
     "output_type": "execute_result"
    }
   ],
   "source": [
    "spark"
   ]
  },
  {
   "cell_type": "code",
   "execution_count": 4,
   "id": "22ee39b3-4976-431b-abc2-24c799dd8786",
   "metadata": {},
   "outputs": [],
   "source": [
    "spark.sparkContext.setCheckpointDir('chkpoint')"
   ]
  },
  {
   "cell_type": "code",
   "execution_count": 5,
   "id": "c2c91186-2cbb-4eac-84d3-72eb9ff98e07",
   "metadata": {},
   "outputs": [],
   "source": [
    "df = spark.read.option(\"header\", True).csv(\"datasets/Pokemon_full.csv\")"
   ]
  },
  {
   "cell_type": "code",
   "execution_count": 28,
   "id": "915ec138-7c3f-40c2-829e-410dac9fa6d9",
   "metadata": {},
   "outputs": [],
   "source": [
    "dfc = df.unionByName(df.withColumn('height', F.col('height') + 1)).checkpoint()"
   ]
  },
  {
   "cell_type": "code",
   "execution_count": 7,
   "id": "cd7997a7-8e2c-4acc-ae34-118deae85d03",
   "metadata": {},
   "outputs": [
    {
     "name": "stdout",
     "output_type": "stream",
     "text": [
      "+----------+----------+------+------+------+--------------+---+------+-------+------+------+-----+\n",
      "|      name|pokedex id|height|weight|  type|secundary type| hp|attack|defense|sp atk|sp def|speed|\n",
      "+----------+----------+------+------+------+--------------+---+------+-------+------+------+-----+\n",
      "| bulbasaur|         1|     7|    69| grass|        poison| 45|    49|     49|    65|    65|   45|\n",
      "|   ivysaur|         2|    10|   130| grass|        poison| 60|    62|     63|    80|    80|   60|\n",
      "|  venusaur|         3|    20|  1000| grass|        poison| 80|    82|     83|   100|   100|   80|\n",
      "|charmander|         4|     6|    85|  fire|          None| 39|    52|     43|    60|    50|   65|\n",
      "|charmeleon|         5|    11|   190|  fire|          None| 58|    64|     58|    80|    65|   80|\n",
      "| charizard|         6|    17|   905|  fire|        flying| 78|    84|     78|   109|    85|  100|\n",
      "|  squirtle|         7|     5|    90| water|          None| 44|    48|     65|    50|    64|   43|\n",
      "| wartortle|         8|    10|   225| water|          None| 59|    63|     80|    65|    80|   58|\n",
      "| blastoise|         9|    16|   855| water|          None| 79|    83|    100|    85|   105|   78|\n",
      "|  caterpie|        10|     3|    29|   bug|          None| 45|    30|     35|    20|    20|   45|\n",
      "|   metapod|        11|     7|    99|   bug|          None| 50|    20|     55|    25|    25|   30|\n",
      "|butterfree|        12|    11|   320|   bug|        flying| 60|    45|     50|    90|    80|   70|\n",
      "|    weedle|        13|     3|    32|   bug|        poison| 40|    35|     30|    20|    20|   50|\n",
      "|    kakuna|        14|     6|   100|   bug|        poison| 45|    25|     50|    25|    25|   35|\n",
      "|  beedrill|        15|    10|   295|   bug|        poison| 65|    90|     40|    45|    80|   75|\n",
      "|    pidgey|        16|     3|    18|normal|        flying| 40|    45|     40|    35|    35|   56|\n",
      "| pidgeotto|        17|    11|   300|normal|        flying| 63|    60|     55|    50|    50|   71|\n",
      "|   pidgeot|        18|    15|   395|normal|        flying| 83|    80|     75|    70|    70|  101|\n",
      "|   rattata|        19|     3|    35|normal|          None| 30|    56|     35|    25|    35|   72|\n",
      "|  raticate|        20|     7|   185|normal|          None| 55|    81|     60|    50|    70|   97|\n",
      "+----------+----------+------+------+------+--------------+---+------+-------+------+------+-----+\n",
      "only showing top 20 rows\n",
      "\n"
     ]
    }
   ],
   "source": [
    "dfc.show()"
   ]
  },
  {
   "cell_type": "code",
   "execution_count": 30,
   "id": "3352c351-e0b2-48bd-850b-5b5a1e75352a",
   "metadata": {},
   "outputs": [],
   "source": [
    "dfl = df.unionByName(df.withColumn('height', F.col('height') + 1)).localCheckpoint()"
   ]
  },
  {
   "cell_type": "code",
   "execution_count": 10,
   "id": "a951c355-cb94-4526-9caa-e5439980b75e",
   "metadata": {},
   "outputs": [
    {
     "data": {
      "text/plain": [
       "<bound method DataFrame.toDF of DataFrame[name: string, pokedex id: string, height: string, weight: string, type: string, secundary type: string, hp: string, attack: string, defense: string, sp atk: string, sp def: string, speed: string]>"
      ]
     },
     "execution_count": 10,
     "metadata": {},
     "output_type": "execute_result"
    }
   ],
   "source": [
    "dfl.toDF()"
   ]
  },
  {
   "cell_type": "markdown",
   "id": "675e2fe2-e977-4eeb-a702-b83b67535237",
   "metadata": {},
   "source": [
    "## Clear filesystem"
   ]
  },
  {
   "cell_type": "code",
   "execution_count": 29,
   "id": "e72de84c-40d0-43f2-a9cc-db159672345a",
   "metadata": {},
   "outputs": [],
   "source": [
    "fs = (spark._jvm.org\n",
    "      .apache.hadoop\n",
    "      .fs.FileSystem\n",
    "      .get(spark._jsc.hadoopConfiguration())\n",
    "      )\n",
    "\n",
    "srcPath = spark._jvm.org.apache.hadoop.fs.Path(\"chkpoint\")\n",
    "\n",
    "if fs.exists(srcPath):\n",
    "    fs.delete(srcPath,True)"
   ]
  },
  {
   "cell_type": "code",
   "execution_count": null,
   "id": "16a4e1b9-0161-417e-902a-005225dd4655",
   "metadata": {},
   "outputs": [],
   "source": []
  }
 ],
 "metadata": {
  "kernelspec": {
   "display_name": "Python 3 (ipykernel)",
   "language": "python",
   "name": "python3"
  },
  "language_info": {
   "codemirror_mode": {
    "name": "ipython",
    "version": 3
   },
   "file_extension": ".py",
   "mimetype": "text/x-python",
   "name": "python",
   "nbconvert_exporter": "python",
   "pygments_lexer": "ipython3",
   "version": "3.11.6"
  }
 },
 "nbformat": 4,
 "nbformat_minor": 5
}
