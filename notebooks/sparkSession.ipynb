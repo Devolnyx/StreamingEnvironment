{
 "cells": [
  {
   "cell_type": "code",
   "execution_count": 1,
   "id": "feb87aae-190e-4438-bc69-dc06c6af68bd",
   "metadata": {},
   "outputs": [],
   "source": [
    "from pyspark.sql import SparkSession\n",
    "import os\n",
    "\n",
    "spark_version = '3.4.1'\n",
    "os.environ['PYSPARK_SUBMIT_ARGS'] = f'--packages org.apache.spark:spark-streaming-kafka-0-10_2.12:{spark_version},org.apache.spark:spark-sql-kafka-0-10_2.12:{spark_version} pyspark-shell'\n",
    "\n",
    "import findspark\n",
    "findspark.init(os.environ['SPARK_HOME'] )\n",
    "\n",
    "spark = (SparkSession\n",
    "        .builder\n",
    "        .appName('app')\n",
    "        .getOrCreate())"
   ]
  },
  {
   "cell_type": "code",
   "execution_count": 2,
   "id": "ebc58900-280f-4df2-9281-11278e8a9a44",
   "metadata": {},
   "outputs": [
    {
     "data": {
      "text/html": [
       "\n",
       "            <div>\n",
       "                <p><b>SparkSession - in-memory</b></p>\n",
       "                \n",
       "        <div>\n",
       "            <p><b>SparkContext</b></p>\n",
       "\n",
       "            <p><a href=\"http://dd9d212d8fce:4040\">Spark UI</a></p>\n",
       "\n",
       "            <dl>\n",
       "              <dt>Version</dt>\n",
       "                <dd><code>v3.4.1</code></dd>\n",
       "              <dt>Master</dt>\n",
       "                <dd><code>local[*]</code></dd>\n",
       "              <dt>AppName</dt>\n",
       "                <dd><code>app</code></dd>\n",
       "            </dl>\n",
       "        </div>\n",
       "        \n",
       "            </div>\n",
       "        "
      ],
      "text/plain": [
       "<pyspark.sql.session.SparkSession at 0x7f1d4453e350>"
      ]
     },
     "execution_count": 2,
     "metadata": {},
     "output_type": "execute_result"
    }
   ],
   "source": [
    "spark"
   ]
  },
  {
   "cell_type": "code",
   "execution_count": 3,
   "id": "189de0cf-e162-40b6-9f2a-804ec1616539",
   "metadata": {},
   "outputs": [
    {
     "name": "stderr",
     "output_type": "stream",
     "text": [
      "/usr/local/spark/python/pyspark/sql/pandas/conversion.py:479: FutureWarning: is_datetime64tz_dtype is deprecated and will be removed in a future version. Check `isinstance(dtype, pd.DatetimeTZDtype)` instead.\n",
      "  if should_localize and is_datetime64tz_dtype(s.dtype) and s.dt.tz is not None:\n"
     ]
    },
    {
     "name": "stdout",
     "output_type": "stream",
     "text": [
      "+---+\n",
      "|  0|\n",
      "+---+\n",
      "|  0|\n",
      "|  1|\n",
      "|  2|\n",
      "|  3|\n",
      "|  4|\n",
      "|  5|\n",
      "|  6|\n",
      "|  7|\n",
      "|  8|\n",
      "|  9|\n",
      "| 10|\n",
      "| 11|\n",
      "| 12|\n",
      "| 13|\n",
      "| 14|\n",
      "| 15|\n",
      "| 16|\n",
      "| 17|\n",
      "| 18|\n",
      "| 19|\n",
      "+---+\n",
      "only showing top 20 rows\n",
      "\n"
     ]
    }
   ],
   "source": [
    "import pandas as pd\n",
    "\n",
    "spark.createDataFrame(pd.Series(list(range(100))).to_frame()).show()"
   ]
  },
  {
   "cell_type": "code",
   "execution_count": 24,
   "id": "4a2939bd-c277-4231-9a14-58226c2a458d",
   "metadata": {},
   "outputs": [
    {
     "name": "stdout",
     "output_type": "stream",
     "text": [
      "^C\n",
      "Traceback (most recent call last):\n",
      "  File \"/home/jovyan/work/producer.py\", line 29, in <module>\n",
      "    produce()\n",
      "  File \"/home/jovyan/work/producer.py\", line 26, in produce\n",
      "    sleep(wait)\n",
      "KeyboardInterrupt\n"
     ]
    }
   ],
   "source": [
    "!python /home/jovyan/work/producer.py"
   ]
  },
  {
   "cell_type": "code",
   "execution_count": 8,
   "id": "4e7e684f-07eb-4089-af69-9c0437ed851f",
   "metadata": {},
   "outputs": [],
   "source": [
    "kafka_servers='localhost:9092'\n",
    "kafka_servers='broker_kafka:29092'\n",
    "topic= 'FirstTopic'"
   ]
  },
  {
   "cell_type": "code",
   "execution_count": 25,
   "id": "f35977d5-dc92-4a8d-a615-0d5ffe3e7be4",
   "metadata": {},
   "outputs": [],
   "source": [
    "\n",
    "\n",
    "stream = spark.readStream.format(\"kafka\") \\\n",
    "    .option(\"kafka.bootstrap.servers\", kafka_servers) \\\n",
    "    .option(\"kafka.security.protocol\", \"PLAINTEXT\") \\\n",
    "    .option(\"subscribe\", topic) \\\n",
    "    .option(\"startingOffsets\", \"earliest\") \\\n",
    "    .load()"
   ]
  },
  {
   "cell_type": "code",
   "execution_count": 26,
   "id": "69f14585-eb32-4341-bc0b-0d2035dcdb6f",
   "metadata": {},
   "outputs": [
    {
     "data": {
      "text/plain": [
       "<pyspark.sql.streaming.query.StreamingQuery at 0x7f1e29673e10>"
      ]
     },
     "execution_count": 26,
     "metadata": {},
     "output_type": "execute_result"
    }
   ],
   "source": [
    "checkpoint_path = \"/home/jovyan/work/checkpoint/\"\n",
    "\n",
    "stream.writeStream\\\n",
    "    .format(\"parquet\") \\\n",
    "    .option(\"checkpointLocation\", checkpoint_path) \\\n",
    "    .option(\"path\", \"/home/jovyan/work/dir/\")\\\n",
    "    .start()"
   ]
  },
  {
   "cell_type": "code",
   "execution_count": 16,
   "id": "adba38e9-70e0-4933-a506-c2f03b679085",
   "metadata": {},
   "outputs": [
    {
     "data": {
      "text/plain": [
       "<pyspark.sql.streaming.query.StreamingQuery at 0x7f1e29b12650>"
      ]
     },
     "execution_count": 16,
     "metadata": {},
     "output_type": "execute_result"
    }
   ],
   "source": [
    "stream\\\n",
    "    .writeStream \\\n",
    "    .format(\"console\") \\\n",
    "    .option(\"truncate\", \"false\") \\\n",
    "    .trigger(processingTime=\"5 second\") \\\n",
    "    .start()"
   ]
  },
  {
   "cell_type": "code",
   "execution_count": null,
   "id": "1d6145f8-fa58-445e-9fdd-da6a196190ed",
   "metadata": {},
   "outputs": [],
   "source": []
  },
  {
   "cell_type": "code",
   "execution_count": null,
   "id": "431ef34c-dafc-4f72-94af-3a3dea8232fe",
   "metadata": {},
   "outputs": [],
   "source": []
  },
  {
   "cell_type": "code",
   "execution_count": null,
   "id": "38c2f234-7d48-4c62-936f-1680db01795c",
   "metadata": {},
   "outputs": [],
   "source": []
  },
  {
   "cell_type": "code",
   "execution_count": 6,
   "id": "ad1e4f88-57b5-40ac-9541-089fc0e3a3f5",
   "metadata": {},
   "outputs": [],
   "source": [
    "stream = spark.read.format(\"kafka\") \\\n",
    "    .option(\"kafka.bootstrap.servers\", 'broker_kafka:29092') \\\n",
    "    .option(\"kafka.security.protocol\", \"PLAINTEXT\") \\\n",
    "    .option(\"subscribe\", topic) \\\n",
    "    .option(\"startingOffsets\", \"earliest\") \\\n",
    "    .load()"
   ]
  },
  {
   "cell_type": "code",
   "execution_count": 7,
   "id": "b802ae16-a26f-42ad-9499-9dbdcfc58f25",
   "metadata": {},
   "outputs": [
    {
     "name": "stdout",
     "output_type": "stream",
     "text": [
      "+----+--------------------+----------+---------+------+--------------------+-------------+\n",
      "| key|               value|     topic|partition|offset|           timestamp|timestampType|\n",
      "+----+--------------------+----------+---------+------+--------------------+-------------+\n",
      "|null|[7B 22 66 69 72 7...|FirstTopic|        0|     0|2023-10-29 16:52:...|            0|\n",
      "|null|[7B 22 66 69 72 7...|FirstTopic|        0|     1|2023-10-29 16:52:...|            0|\n",
      "|null|[7B 22 66 69 72 7...|FirstTopic|        0|     2|2023-10-29 16:52:...|            0|\n",
      "|null|[7B 22 66 69 72 7...|FirstTopic|        0|     3|2023-10-29 16:52:...|            0|\n",
      "|null|[7B 22 66 69 72 7...|FirstTopic|        0|     4|2023-10-29 16:52:...|            0|\n",
      "|null|[7B 22 66 69 72 7...|FirstTopic|        0|     5|2023-10-29 16:54:...|            0|\n",
      "|null|[7B 22 66 69 72 7...|FirstTopic|        0|     6|2023-10-29 16:54:...|            0|\n",
      "|null|[7B 22 66 69 72 7...|FirstTopic|        0|     7|2023-10-29 16:54:...|            0|\n",
      "|null|[7B 22 66 69 72 7...|FirstTopic|        0|     8|2023-10-29 16:54:...|            0|\n",
      "|null|[7B 22 66 69 72 7...|FirstTopic|        0|     9|2023-10-29 16:54:...|            0|\n",
      "|null|[7B 22 66 69 72 7...|FirstTopic|        0|    10|2023-10-29 16:54:...|            0|\n",
      "|null|[7B 22 66 69 72 7...|FirstTopic|        0|    11|2023-10-29 16:54:...|            0|\n",
      "|null|[7B 22 66 69 72 7...|FirstTopic|        0|    12|2023-10-29 16:54:...|            0|\n",
      "|null|[7B 22 66 69 72 7...|FirstTopic|        0|    13|2023-10-29 16:54:...|            0|\n",
      "|null|[7B 22 66 69 72 7...|FirstTopic|        0|    14|2023-10-29 16:54:...|            0|\n",
      "+----+--------------------+----------+---------+------+--------------------+-------------+\n",
      "\n"
     ]
    }
   ],
   "source": [
    "stream.show()"
   ]
  },
  {
   "cell_type": "code",
   "execution_count": null,
   "id": "6fc2caf6-4822-4856-a2c2-14f3a132f888",
   "metadata": {},
   "outputs": [],
   "source": []
  },
  {
   "cell_type": "code",
   "execution_count": 20,
   "id": "1f4869e7-ce1c-4854-8d42-ee28430f39ab",
   "metadata": {},
   "outputs": [],
   "source": [
    "from kafka import KafkaProducer\n",
    "from faker import Faker\n",
    "import numpy as np\n",
    "import json\n",
    "from time import sleep\n",
    "\n",
    "\n",
    "topic_name = 'FirstTopic'\n",
    "producer = KafkaProducer(bootstrap_servers='broker_kafka:29092')\n",
    "_instance = Faker()\n",
    "\n",
    "\n",
    "_data = {\n",
    "    \"first_name\": _instance.first_name(),\n",
    "    \"city\":_instance.city(),\n",
    "    \"phone_number\":_instance.phone_number(),\n",
    "    \"state\":_instance.state(),\n",
    "    \"id\":str('_')\n",
    "}\n",
    "_payload = json.dumps(_data).encode(\"utf-8\")\n",
    "response = producer.send(topic_name, _payload)\n",
    "#print(response)\n",
    "\n",
    "#wait = np.random.randint(3,15,1)[0]\n",
    "#sleep(wait)\n",
    "\n",
    "\n"
   ]
  },
  {
   "cell_type": "code",
   "execution_count": 21,
   "id": "f6477337-d4f1-423b-8039-4a0f09be7fd4",
   "metadata": {},
   "outputs": [
    {
     "name": "stdout",
     "output_type": "stream",
     "text": [
      "<kafka.producer.future.FutureRecordMetadata object at 0x7fac98cc7b10>\n"
     ]
    }
   ],
   "source": [
    "print(response)"
   ]
  },
  {
   "cell_type": "code",
   "execution_count": null,
   "id": "236333a6-ee09-4438-939f-82b9a86768b6",
   "metadata": {},
   "outputs": [],
   "source": [
    "try:\n",
    "    from kafka import KafkaConsumer\n",
    "    import json\n",
    "    import requests\n",
    "    import os\n",
    "    import sys\n",
    "except Exception as e:\n",
    "    pass\n",
    "\n",
    "# ------------------------------\n",
    "os.environ['KAFKA_TOPIC'] = \"FirstTopic\"\n",
    "os.environ['SERVER_END_POINT'] = \"broker_kafka:29092\"\n",
    "# -----------------------------\n",
    "\n",
    "\n",
    "\n",
    "class ElasticSearchKafkaUploadRecord:\n",
    "\n",
    "    def __init__(self, json_data, hash_key, index_name):\n",
    "        self.hash_key = hash_key\n",
    "        self.json_data = json_data\n",
    "        self.index_name = index_name.lower()\n",
    "\n",
    "    def upload(self):\n",
    "        \"\"\"\n",
    "        Uploads records on Elastic Search Cluster\n",
    "        :return\n",
    "        \"\"\"\n",
    "        URL = \"{}/{}/_doc/{}\".format(\n",
    "            os.getenv(\"SERVER_END_POINT\"), self.index_name, self.hash_key\n",
    "        )\n",
    "        print(URL)\n",
    "\n",
    "        headers = {\"Content-Type\": \"application/json\"}\n",
    "\n",
    "        response = requests.request(\n",
    "            \"PUT\", URL, headers=headers, data=json.dumps(self.json_data),\n",
    "        )\n",
    "        print(response)\n",
    "\n",
    "        return {\"status\": 200, \"data\": {\"message\": \"record uploaded to Elastic Search\"}}\n",
    "\n",
    "\n",
    "def main():\n",
    "\n",
    "    consumer = KafkaConsumer(os.getenv(\"KAFKA_TOPIC\"))\n",
    "\n",
    "    for msg in consumer:\n",
    "\n",
    "        payload = json.loads(msg.value)\n",
    "        payload[\"meta_data\"]={\n",
    "            \"topic\":msg.topic,\n",
    "            \"partition\":msg.partition,\n",
    "            \"offset\":msg.offset,\n",
    "            \"timestamp\":msg.timestamp,\n",
    "            \"timestamp_type\":msg.timestamp_type,\n",
    "            \"key\":msg.key,\n",
    "        }\n",
    "\n",
    "        print(payload)\n",
    "\n",
    "        # helper = ElasticSearchKafkaUploadRecord(json_data=payload,\n",
    "        #                                         index_name=payload.get(\"meta_data\").get(\"topic\"),\n",
    "        #                                         hash_key=payload.get(\"meta_data\").get(\"offset\"),\n",
    "        #                                         )\n",
    "        # response = helper.upload()\n",
    "\n",
    "\n",
    "main()"
   ]
  },
  {
   "cell_type": "code",
   "execution_count": null,
   "id": "4f50fc4a-f08b-4abc-926d-28b9b31b4aeb",
   "metadata": {},
   "outputs": [],
   "source": []
  }
 ],
 "metadata": {
  "kernelspec": {
   "display_name": "Python 3 (ipykernel)",
   "language": "python",
   "name": "python3"
  },
  "language_info": {
   "codemirror_mode": {
    "name": "ipython",
    "version": 3
   },
   "file_extension": ".py",
   "mimetype": "text/x-python",
   "name": "python",
   "nbconvert_exporter": "python",
   "pygments_lexer": "ipython3",
   "version": "3.11.6"
  }
 },
 "nbformat": 4,
 "nbformat_minor": 5
}
