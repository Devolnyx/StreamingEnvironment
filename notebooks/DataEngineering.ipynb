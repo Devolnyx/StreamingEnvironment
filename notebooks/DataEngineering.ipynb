{
 "cells": [
  {
   "cell_type": "code",
   "execution_count": 1,
   "id": "88c59ad5",
   "metadata": {},
   "outputs": [
    {
     "name": "stdout",
     "output_type": "stream",
     "text": [
      "Python 3.11.6\n"
     ]
    }
   ],
   "source": [
    "import os\n",
    "import glob\n",
    "import findspark\n",
    "import pandas as pd\n",
    "findspark.init()\n",
    "findspark.find()\n",
    "\n",
    "from pyspark.sql import SparkSession\n",
    "from pyspark.sql import functions as F\n",
    "from pyspark.sql import types as T\n",
    "\n",
    "!python --version"
   ]
  },
  {
   "cell_type": "code",
   "execution_count": 2,
   "id": "edcd7a7c",
   "metadata": {},
   "outputs": [],
   "source": [
    "from pyspark.sql import SparkSession\n",
    "session = SparkSession.builder.appName('APP').config('hive.exec.dynamic.partition.mode', 'nonstrict').config(\"spark.memory.offHeap.size\",\"4g\").enableHiveSupport().getOrCreate()"
   ]
  },
  {
   "cell_type": "code",
   "execution_count": 3,
   "id": "6246729f",
   "metadata": {},
   "outputs": [
    {
     "data": {
      "text/html": [
       "\n",
       "            <div>\n",
       "                <p><b>SparkSession - hive</b></p>\n",
       "                \n",
       "        <div>\n",
       "            <p><b>SparkContext</b></p>\n",
       "\n",
       "            <p><a href=\"http://dd9d212d8fce:4041\">Spark UI</a></p>\n",
       "\n",
       "            <dl>\n",
       "              <dt>Version</dt>\n",
       "                <dd><code>v3.4.1</code></dd>\n",
       "              <dt>Master</dt>\n",
       "                <dd><code>local[*]</code></dd>\n",
       "              <dt>AppName</dt>\n",
       "                <dd><code>APP</code></dd>\n",
       "            </dl>\n",
       "        </div>\n",
       "        \n",
       "            </div>\n",
       "        "
      ],
      "text/plain": [
       "<pyspark.sql.session.SparkSession at 0x7f61f1bded90>"
      ]
     },
     "execution_count": 3,
     "metadata": {},
     "output_type": "execute_result"
    }
   ],
   "source": [
    "session"
   ]
  },
  {
   "cell_type": "code",
   "execution_count": 4,
   "id": "3d504538",
   "metadata": {},
   "outputs": [],
   "source": [
    "df = pd.read_csv(\"datasets/Pokemon_full.csv\")"
   ]
  },
  {
   "cell_type": "code",
   "execution_count": 5,
   "id": "ab751302",
   "metadata": {},
   "outputs": [],
   "source": [
    "df1 = df[df.type.isin(['grass', 'fire', 'dragon', 'fairy'])]\n",
    "df2 = df[~df.type.isin(['grass', 'fire', 'dragon', 'fairy'])]"
   ]
  },
  {
   "cell_type": "code",
   "execution_count": 6,
   "id": "fb22b4af",
   "metadata": {},
   "outputs": [
    {
     "name": "stderr",
     "output_type": "stream",
     "text": [
      "/usr/local/spark/python/pyspark/sql/pandas/conversion.py:479: FutureWarning: is_datetime64tz_dtype is deprecated and will be removed in a future version. Check `isinstance(dtype, pd.DatetimeTZDtype)` instead.\n",
      "  if should_localize and is_datetime64tz_dtype(s.dtype) and s.dt.tz is not None:\n"
     ]
    }
   ],
   "source": [
    "data1 = session.createDataFrame(df1)\n",
    "data2 = session.createDataFrame(df2)"
   ]
  },
  {
   "cell_type": "code",
   "execution_count": 7,
   "id": "98ebd1d0",
   "metadata": {},
   "outputs": [
    {
     "name": "stdout",
     "output_type": "stream",
     "text": [
      "root\n",
      " |-- name: string (nullable = true)\n",
      " |-- pokedex_id: long (nullable = true)\n",
      " |-- height: long (nullable = true)\n",
      " |-- weight: long (nullable = true)\n",
      " |-- type: string (nullable = true)\n",
      " |-- secundary_type: string (nullable = true)\n",
      " |-- hp: long (nullable = true)\n",
      " |-- attack: long (nullable = true)\n",
      " |-- defense: long (nullable = true)\n",
      " |-- sp_atk: long (nullable = true)\n",
      " |-- sp_def: long (nullable = true)\n",
      " |-- speed: long (nullable = true)\n",
      "\n",
      "root\n",
      " |-- name: string (nullable = true)\n",
      " |-- pokedex_id: long (nullable = true)\n",
      " |-- height: long (nullable = true)\n",
      " |-- weight: long (nullable = true)\n",
      " |-- type: string (nullable = true)\n",
      " |-- secundary_type: string (nullable = true)\n",
      " |-- hp: long (nullable = true)\n",
      " |-- attack: long (nullable = true)\n",
      " |-- defense: long (nullable = true)\n",
      " |-- sp_atk: long (nullable = true)\n",
      " |-- sp_def: long (nullable = true)\n",
      " |-- speed: long (nullable = true)\n",
      "\n"
     ]
    }
   ],
   "source": [
    "for col, new_col in zip(data1.columns, [x.replace(' ', '_') for x in data1.columns]):\n",
    "    data1 = data1.withColumnRenamed(col, new_col)\n",
    "\n",
    "data1.printSchema()\n",
    "\n",
    "for col, new_col in zip(data2.columns, [x.replace(' ', '_') for x in data2.columns]):\n",
    "    data2 = data2.withColumnRenamed(col, new_col)\n",
    "\n",
    "data2.printSchema()"
   ]
  },
  {
   "cell_type": "code",
   "execution_count": 13,
   "id": "a4f6f876",
   "metadata": {},
   "outputs": [
    {
     "data": {
      "text/plain": [
       "DataFrame[]"
      ]
     },
     "execution_count": 13,
     "metadata": {},
     "output_type": "execute_result"
    }
   ],
   "source": [
    "session.sql('drop table if exists pokemon')"
   ]
  },
  {
   "cell_type": "markdown",
   "id": "76cbea40-70b3-4221-88f1-66b0ecd623d5",
   "metadata": {},
   "source": [
    "## Partitioned table"
   ]
  },
  {
   "cell_type": "code",
   "execution_count": 14,
   "id": "47b97f67",
   "metadata": {},
   "outputs": [],
   "source": [
    "q = '''create external table if not exists pokemon(\n",
    "name string,\n",
    "pokedex_id long,\n",
    "height long, \n",
    "weight long,\n",
    "secundary_type string, \n",
    "hp long, \n",
    "attack long, \n",
    "defense long,\n",
    "sp_atk long,\n",
    "sp_def long,\n",
    "speed long\n",
    ")\n",
    "PARTITIONED by (type string)\n",
    "STORED AS PARQUET\n",
    "LOCATION 'pokemon'\n",
    "'''"
   ]
  },
  {
   "cell_type": "code",
   "execution_count": 15,
   "id": "f3375c37",
   "metadata": {},
   "outputs": [
    {
     "data": {
      "text/plain": [
       "DataFrame[]"
      ]
     },
     "execution_count": 15,
     "metadata": {},
     "output_type": "execute_result"
    }
   ],
   "source": [
    "session.sql(q)"
   ]
  },
  {
   "cell_type": "code",
   "execution_count": 16,
   "id": "76a614bb",
   "metadata": {},
   "outputs": [
    {
     "name": "stdout",
     "output_type": "stream",
     "text": [
      "+----+----------+------+------+--------------+---+------+-------+------+------+-----+----+\n",
      "|name|pokedex_id|height|weight|secundary_type| hp|attack|defense|sp_atk|sp_def|speed|type|\n",
      "+----+----------+------+------+--------------+---+------+-------+------+------+-----+----+\n",
      "+----+----------+------+------+--------------+---+------+-------+------+------+-----+----+\n",
      "\n"
     ]
    }
   ],
   "source": [
    "session.table('pokemon').show()"
   ]
  },
  {
   "cell_type": "code",
   "execution_count": 32,
   "id": "6e984610",
   "metadata": {},
   "outputs": [],
   "source": [
    "#data1 = data1.withColumn('height', F.col('height').cast(T.StringType())).withColumn('weight', F.col('weight').cast(T.StringType()))"
   ]
  },
  {
   "cell_type": "code",
   "execution_count": 17,
   "id": "3d69041e",
   "metadata": {},
   "outputs": [],
   "source": [
    "data1 = data1.withColumn('height', F.col('height').cast(T.IntegerType())).withColumn('weight', F.col('weight').cast(T.IntegerType()))"
   ]
  },
  {
   "cell_type": "code",
   "execution_count": 18,
   "id": "fc5bb397",
   "metadata": {},
   "outputs": [],
   "source": [
    "data1.select(session.table('pokemon').columns).write.format('parquet').mode(\"append\").insertInto('pokemon')"
   ]
  },
  {
   "cell_type": "code",
   "execution_count": 19,
   "id": "1314a680",
   "metadata": {},
   "outputs": [
    {
     "name": "stdout",
     "output_type": "stream",
     "text": [
      "+------+-------+\n",
      "|  type|records|\n",
      "+------+-------+\n",
      "| grass|     86|\n",
      "|  fire|     58|\n",
      "|dragon|     30|\n",
      "| fairy|     21|\n",
      "+------+-------+\n",
      "\n"
     ]
    }
   ],
   "source": [
    "session.table('pokemon').groupby('type').agg(F.count('name').alias('records')).show()"
   ]
  },
  {
   "cell_type": "code",
   "execution_count": 22,
   "id": "014b2d24-844b-45fe-85dd-3c913fbc7ddf",
   "metadata": {},
   "outputs": [
    {
     "name": "stdout",
     "output_type": "stream",
     "text": [
      "+--------+-------+\n",
      "|    type|records|\n",
      "+--------+-------+\n",
      "|  normal|    218|\n",
      "|     bug|    150|\n",
      "|   grass|     86|\n",
      "|   water|    246|\n",
      "| psychic|    114|\n",
      "|electric|     96|\n",
      "|     ice|     54|\n",
      "|    rock|    100|\n",
      "|    fire|     58|\n",
      "|   steel|     60|\n",
      "|fighting|     68|\n",
      "|  poison|     70|\n",
      "|   ghost|     60|\n",
      "|    dark|     70|\n",
      "|  dragon|     30|\n",
      "|  ground|     70|\n",
      "|   fairy|     21|\n",
      "|  flying|     14|\n",
      "+--------+-------+\n",
      "\n"
     ]
    }
   ],
   "source": [
    "# First insert\n",
    "data2.select(session.table('pokemon').columns).write.format('parquet').mode(\"append\").insertInto('pokemon')\n",
    "session.table('pokemon').groupby('type').agg(F.count('name').alias('records')).show()"
   ]
  },
  {
   "cell_type": "code",
   "execution_count": 21,
   "id": "fb016dcc",
   "metadata": {},
   "outputs": [
    {
     "name": "stdout",
     "output_type": "stream",
     "text": [
      "+--------+-------+\n",
      "|    type|records|\n",
      "+--------+-------+\n",
      "|  normal|    218|\n",
      "|     bug|    150|\n",
      "|   grass|    172|\n",
      "|   water|    246|\n",
      "|electric|     96|\n",
      "|   steel|     60|\n",
      "|    dark|     70|\n",
      "|  poison|     70|\n",
      "| psychic|    114|\n",
      "|    rock|    100|\n",
      "|    fire|    116|\n",
      "|fighting|     68|\n",
      "|  dragon|     60|\n",
      "|   ghost|     60|\n",
      "|     ice|     54|\n",
      "|  ground|     70|\n",
      "|   fairy|     42|\n",
      "|  flying|     14|\n",
      "+--------+-------+\n",
      "\n"
     ]
    }
   ],
   "source": [
    "# Second insert\n",
    "data2.select(session.table('pokemon').columns).write.format('parquet').mode(\"append\").insertInto('pokemon')\n",
    "session.table('pokemon').groupby('type').agg(F.count('name').alias('records')).show()"
   ]
  },
  {
   "cell_type": "code",
   "execution_count": 23,
   "id": "86452746-04c5-45c9-9b08-c4e7f738b577",
   "metadata": {},
   "outputs": [
    {
     "name": "stdout",
     "output_type": "stream",
     "text": [
      "+--------+-------+\n",
      "|    type|records|\n",
      "+--------+-------+\n",
      "|     bug|     43|\n",
      "|  normal|     56|\n",
      "|   grass|     86|\n",
      "|  dragon|     30|\n",
      "|    fire|     58|\n",
      "| psychic|     34|\n",
      "|electric|     26|\n",
      "|   ghost|     15|\n",
      "|   water|     58|\n",
      "|   fairy|     21|\n",
      "|   steel|     14|\n",
      "|     ice|      9|\n",
      "|  poison|     17|\n",
      "|    rock|     19|\n",
      "|  flying|      4|\n",
      "|    dark|     16|\n",
      "|fighting|     13|\n",
      "|  ground|     12|\n",
      "+--------+-------+\n",
      "\n"
     ]
    }
   ],
   "source": [
    "# Insert overwrite\n",
    "data2.filter('height < 10').select(session.table('pokemon').columns).write.format('parquet').mode(\"overwrite\").insertInto('pokemon')\n",
    "session.table('pokemon').groupby('type').agg(F.count('name').alias('records')).show()"
   ]
  },
  {
   "cell_type": "markdown",
   "id": "88035be4-d760-4c83-8ce5-89e0056bc7e2",
   "metadata": {},
   "source": [
    "## Non-partitioned table"
   ]
  },
  {
   "cell_type": "code",
   "execution_count": 34,
   "id": "7293f727-4c27-48f7-bdfd-c38664a40bec",
   "metadata": {},
   "outputs": [
    {
     "data": {
      "text/plain": [
       "DataFrame[]"
      ]
     },
     "execution_count": 34,
     "metadata": {},
     "output_type": "execute_result"
    }
   ],
   "source": [
    "q = '''create external table if not exists pokemon_nonpart(\n",
    "name string,\n",
    "pokedex_id long,\n",
    "height long, \n",
    "weight long,\n",
    "secundary_type string, \n",
    "hp long, \n",
    "attack long, \n",
    "defense long,\n",
    "sp_atk long,\n",
    "sp_def long,\n",
    "speed long,\n",
    "type string\n",
    ")\n",
    "STORED AS PARQUET\n",
    "LOCATION 'pokemon_nonpart'\n",
    "'''\n",
    "session.sql('drop table if exists pokemon_nonpart')\n",
    "session.sql(q)"
   ]
  },
  {
   "cell_type": "code",
   "execution_count": 36,
   "id": "6b24ac03-c75b-40da-9957-9cba75c105fd",
   "metadata": {},
   "outputs": [
    {
     "name": "stdout",
     "output_type": "stream",
     "text": [
      "+------+-------+\n",
      "|  type|records|\n",
      "+------+-------+\n",
      "| grass|     86|\n",
      "| fairy|     21|\n",
      "|dragon|     30|\n",
      "|  fire|     58|\n",
      "+------+-------+\n",
      "\n"
     ]
    }
   ],
   "source": [
    "data1.select(session.table('pokemon_nonpart').columns).write.format('parquet').mode(\"overwrite\").insertInto('pokemon_nonpart')\n",
    "session.table('pokemon_nonpart').groupby('type').agg(F.count('name').alias('records')).show()"
   ]
  },
  {
   "cell_type": "code",
   "execution_count": 37,
   "id": "3e1c0e5c-091e-46ab-838b-8f3e34d8c165",
   "metadata": {},
   "outputs": [
    {
     "name": "stdout",
     "output_type": "stream",
     "text": [
      "+--------+-------+\n",
      "|    type|records|\n",
      "+--------+-------+\n",
      "|   ghost|     30|\n",
      "|   steel|     30|\n",
      "|     ice|     27|\n",
      "|   water|    123|\n",
      "|  ground|     35|\n",
      "|  flying|      7|\n",
      "|    dark|     35|\n",
      "|fighting|     34|\n",
      "|  poison|     35|\n",
      "| psychic|     57|\n",
      "|    rock|     50|\n",
      "|electric|     48|\n",
      "|  normal|    109|\n",
      "|     bug|     75|\n",
      "+--------+-------+\n",
      "\n"
     ]
    }
   ],
   "source": [
    "data2.select(session.table('pokemon_nonpart').columns).write.format('parquet').mode(\"overwrite\").insertInto('pokemon_nonpart')\n",
    "session.table('pokemon_nonpart').groupby('type').agg(F.count('name').alias('records')).show()"
   ]
  },
  {
   "cell_type": "markdown",
   "id": "df18034e",
   "metadata": {},
   "source": [
    "### Adding new columns"
   ]
  },
  {
   "cell_type": "code",
   "execution_count": 91,
   "id": "6e0373e7",
   "metadata": {},
   "outputs": [
    {
     "data": {
      "text/plain": [
       "DataFrame[]"
      ]
     },
     "execution_count": 91,
     "metadata": {},
     "output_type": "execute_result"
    }
   ],
   "source": [
    "session.sql('drop table if exists pokemon')"
   ]
  },
  {
   "cell_type": "code",
   "execution_count": 24,
   "id": "8109a396",
   "metadata": {},
   "outputs": [],
   "source": [
    "q = '''create external table if not exists pokemon(\n",
    "name string,\n",
    "pokedex_id long,\n",
    "height long, \n",
    "weight long,\n",
    "secundary_type string, \n",
    "hp long, \n",
    "attack long, \n",
    "defense long,\n",
    "sp_atk long,\n",
    "sp_def long,\n",
    "speed long,\n",
    "new_test_column string,\n",
    "new_another_column long\n",
    ")\n",
    "PARTITIONED by (type string)\n",
    "STORED AS PARQUET\n",
    "LOCATION 'pokemon'\n",
    "'''\n",
    "\n"
   ]
  },
  {
   "cell_type": "code",
   "execution_count": 25,
   "id": "2d381634",
   "metadata": {},
   "outputs": [
    {
     "data": {
      "text/plain": [
       "DataFrame[]"
      ]
     },
     "execution_count": 25,
     "metadata": {},
     "output_type": "execute_result"
    }
   ],
   "source": [
    "session.sql(q)"
   ]
  },
  {
   "cell_type": "code",
   "execution_count": 26,
   "id": "67cdf764",
   "metadata": {},
   "outputs": [
    {
     "data": {
      "text/plain": [
       "DataFrame[]"
      ]
     },
     "execution_count": 26,
     "metadata": {},
     "output_type": "execute_result"
    }
   ],
   "source": [
    "session.sql('MSCK REPAIR TABLE pokemon')"
   ]
  },
  {
   "cell_type": "code",
   "execution_count": 95,
   "id": "eea67670",
   "metadata": {},
   "outputs": [
    {
     "name": "stdout",
     "output_type": "stream",
     "text": [
      "+----------+----------+------+------+--------------+---+------+-------+------+------+-----+---------------+------------------+-----+\n",
      "|      name|pokedex_id|height|weight|secundary_type| hp|attack|defense|sp_atk|sp_def|speed|new_test_column|new_another_column| type|\n",
      "+----------+----------+------+------+--------------+---+------+-------+------+------+-----+---------------+------------------+-----+\n",
      "|    horsea|       116|     4|    80|          None| 30|    40|     70|    70|    25|   60|           null|              null|water|\n",
      "|    seadra|       117|    12|   250|          None| 55|    65|     95|    95|    45|   85|           null|              null|water|\n",
      "|   goldeen|       118|     6|   150|          None| 45|    67|     60|    35|    50|   63|           null|              null|water|\n",
      "|   seaking|       119|    13|   390|          None| 80|    92|     65|    65|    80|   68|           null|              null|water|\n",
      "|    staryu|       120|     8|   345|          None| 30|    45|     55|    70|    55|   85|           null|              null|water|\n",
      "|   starmie|       121|    11|   800|       psychic| 60|    75|     85|   100|    85|  115|           null|              null|water|\n",
      "|  magikarp|       129|     9|   100|          None| 20|    10|     55|    15|    20|   80|           null|              null|water|\n",
      "|  gyarados|       130|    65|  2350|        flying| 95|   125|     79|    60|   100|   81|           null|              null|water|\n",
      "|    lapras|       131|    25|  2200|           ice|130|    85|     80|    85|    95|   60|           null|              null|water|\n",
      "|  vaporeon|       134|    10|   290|          None|130|    65|     60|   110|    95|   65|           null|              null|water|\n",
      "|  totodile|       158|     6|    95|          None| 50|    65|     64|    44|    48|   43|           null|              null|water|\n",
      "|  croconaw|       159|    11|   250|          None| 65|    80|     80|    59|    63|   58|           null|              null|water|\n",
      "|feraligatr|       160|    23|   888|          None| 85|   105|    100|    79|    83|   78|           null|              null|water|\n",
      "|  chinchou|       170|     5|   120|      electric| 75|    38|     38|    56|    56|   67|           null|              null|water|\n",
      "|   lanturn|       171|    12|   225|      electric|125|    58|     58|    76|    76|   67|           null|              null|water|\n",
      "|    marill|       183|     4|    85|         fairy| 70|    20|     50|    20|    50|   40|           null|              null|water|\n",
      "| azumarill|       184|     8|   285|         fairy|100|    50|     80|    60|    80|   50|           null|              null|water|\n",
      "|  politoed|       186|    11|   339|          None| 90|    75|     75|    90|   100|   70|           null|              null|water|\n",
      "|    wooper|       194|     4|    85|        ground| 55|    45|     45|    25|    25|   15|           null|              null|water|\n",
      "|  quagsire|       195|    14|   750|        ground| 95|    85|     85|    65|    65|   35|           null|              null|water|\n",
      "+----------+----------+------+------+--------------+---+------+-------+------+------+-----+---------------+------------------+-----+\n",
      "only showing top 20 rows\n",
      "\n"
     ]
    }
   ],
   "source": [
    "session.table('pokemon').show()"
   ]
  },
  {
   "cell_type": "markdown",
   "id": "c883d932",
   "metadata": {},
   "source": [
    "### Deleting columns"
   ]
  },
  {
   "cell_type": "code",
   "execution_count": 96,
   "id": "e027ba62",
   "metadata": {},
   "outputs": [
    {
     "data": {
      "text/plain": [
       "DataFrame[]"
      ]
     },
     "execution_count": 96,
     "metadata": {},
     "output_type": "execute_result"
    }
   ],
   "source": [
    "session.sql('drop table if exists pokemon')"
   ]
  },
  {
   "cell_type": "code",
   "execution_count": 97,
   "id": "3277b5c3",
   "metadata": {},
   "outputs": [],
   "source": [
    "q = '''create external table if not exists pokemon(\n",
    "name string,\n",
    "pokedex_id long,\n",
    "height long, \n",
    "weight long,\n",
    "secundary_type string, \n",
    "hp long, \n",
    "sp_atk long,\n",
    "sp_def long,\n",
    "speed long,\n",
    "new_test_column string,\n",
    "new_another_column long\n",
    ")\n",
    "PARTITIONED by (type string)\n",
    "STORED AS PARQUET\n",
    "LOCATION 'pokemon'\n",
    "'''\n",
    "\n"
   ]
  },
  {
   "cell_type": "code",
   "execution_count": 98,
   "id": "542fdbfa",
   "metadata": {},
   "outputs": [
    {
     "data": {
      "text/plain": [
       "DataFrame[]"
      ]
     },
     "execution_count": 98,
     "metadata": {},
     "output_type": "execute_result"
    }
   ],
   "source": [
    "session.sql(q)"
   ]
  },
  {
   "cell_type": "code",
   "execution_count": 99,
   "id": "2efae42d",
   "metadata": {},
   "outputs": [
    {
     "data": {
      "text/plain": [
       "DataFrame[]"
      ]
     },
     "execution_count": 99,
     "metadata": {},
     "output_type": "execute_result"
    }
   ],
   "source": [
    "session.sql('MSCK REPAIR TABLE pokemon')"
   ]
  },
  {
   "cell_type": "code",
   "execution_count": 100,
   "id": "ce3804fc",
   "metadata": {},
   "outputs": [
    {
     "name": "stdout",
     "output_type": "stream",
     "text": [
      "+----------+----------+------+------+--------------+---+------+------+-----+---------------+------------------+-----+\n",
      "|      name|pokedex_id|height|weight|secundary_type| hp|sp_atk|sp_def|speed|new_test_column|new_another_column| type|\n",
      "+----------+----------+------+------+--------------+---+------+------+-----+---------------+------------------+-----+\n",
      "|    horsea|       116|     4|    80|          None| 30|    70|    25|   60|           null|              null|water|\n",
      "|    seadra|       117|    12|   250|          None| 55|    95|    45|   85|           null|              null|water|\n",
      "|   goldeen|       118|     6|   150|          None| 45|    35|    50|   63|           null|              null|water|\n",
      "|   seaking|       119|    13|   390|          None| 80|    65|    80|   68|           null|              null|water|\n",
      "|    staryu|       120|     8|   345|          None| 30|    70|    55|   85|           null|              null|water|\n",
      "|   starmie|       121|    11|   800|       psychic| 60|   100|    85|  115|           null|              null|water|\n",
      "|  magikarp|       129|     9|   100|          None| 20|    15|    20|   80|           null|              null|water|\n",
      "|  gyarados|       130|    65|  2350|        flying| 95|    60|   100|   81|           null|              null|water|\n",
      "|    lapras|       131|    25|  2200|           ice|130|    85|    95|   60|           null|              null|water|\n",
      "|  vaporeon|       134|    10|   290|          None|130|   110|    95|   65|           null|              null|water|\n",
      "|  totodile|       158|     6|    95|          None| 50|    44|    48|   43|           null|              null|water|\n",
      "|  croconaw|       159|    11|   250|          None| 65|    59|    63|   58|           null|              null|water|\n",
      "|feraligatr|       160|    23|   888|          None| 85|    79|    83|   78|           null|              null|water|\n",
      "|  chinchou|       170|     5|   120|      electric| 75|    56|    56|   67|           null|              null|water|\n",
      "|   lanturn|       171|    12|   225|      electric|125|    76|    76|   67|           null|              null|water|\n",
      "|    marill|       183|     4|    85|         fairy| 70|    20|    50|   40|           null|              null|water|\n",
      "| azumarill|       184|     8|   285|         fairy|100|    60|    80|   50|           null|              null|water|\n",
      "|  politoed|       186|    11|   339|          None| 90|    90|   100|   70|           null|              null|water|\n",
      "|    wooper|       194|     4|    85|        ground| 55|    25|    25|   15|           null|              null|water|\n",
      "|  quagsire|       195|    14|   750|        ground| 95|    65|    65|   35|           null|              null|water|\n",
      "+----------+----------+------+------+--------------+---+------+------+-----+---------------+------------------+-----+\n",
      "only showing top 20 rows\n",
      "\n"
     ]
    }
   ],
   "source": [
    "session.table('pokemon').show()"
   ]
  },
  {
   "cell_type": "code",
   "execution_count": 105,
   "id": "a6be4e24",
   "metadata": {},
   "outputs": [],
   "source": [
    "data3 = (data1\n",
    "         .withColumn('type', F.concat(F.col('type'), F.lit('_new')))\n",
    "        .withColumn('new_test_column', F.lit(1))\n",
    "        .withColumn('new_another_column', F.lit(2))\n",
    "        )"
   ]
  },
  {
   "cell_type": "code",
   "execution_count": 107,
   "id": "5be1b1cd",
   "metadata": {},
   "outputs": [],
   "source": [
    "data3.select(session.table('pokemon').columns).write.format('parquet').mode(\"append\").insertInto('pokemon')"
   ]
  },
  {
   "cell_type": "code",
   "execution_count": 108,
   "id": "9f0a026c",
   "metadata": {},
   "outputs": [
    {
     "name": "stdout",
     "output_type": "stream",
     "text": [
      "+----------+----------+------+------+--------------+---+------+------+-----+---------------+------------------+-----+\n",
      "|      name|pokedex_id|height|weight|secundary_type| hp|sp_atk|sp_def|speed|new_test_column|new_another_column| type|\n",
      "+----------+----------+------+------+--------------+---+------+------+-----+---------------+------------------+-----+\n",
      "|    horsea|       116|     4|    80|          None| 30|    70|    25|   60|           null|              null|water|\n",
      "|    seadra|       117|    12|   250|          None| 55|    95|    45|   85|           null|              null|water|\n",
      "|   goldeen|       118|     6|   150|          None| 45|    35|    50|   63|           null|              null|water|\n",
      "|   seaking|       119|    13|   390|          None| 80|    65|    80|   68|           null|              null|water|\n",
      "|    staryu|       120|     8|   345|          None| 30|    70|    55|   85|           null|              null|water|\n",
      "|   starmie|       121|    11|   800|       psychic| 60|   100|    85|  115|           null|              null|water|\n",
      "|  magikarp|       129|     9|   100|          None| 20|    15|    20|   80|           null|              null|water|\n",
      "|  gyarados|       130|    65|  2350|        flying| 95|    60|   100|   81|           null|              null|water|\n",
      "|    lapras|       131|    25|  2200|           ice|130|    85|    95|   60|           null|              null|water|\n",
      "|  vaporeon|       134|    10|   290|          None|130|   110|    95|   65|           null|              null|water|\n",
      "|  totodile|       158|     6|    95|          None| 50|    44|    48|   43|           null|              null|water|\n",
      "|  croconaw|       159|    11|   250|          None| 65|    59|    63|   58|           null|              null|water|\n",
      "|feraligatr|       160|    23|   888|          None| 85|    79|    83|   78|           null|              null|water|\n",
      "|  chinchou|       170|     5|   120|      electric| 75|    56|    56|   67|           null|              null|water|\n",
      "|   lanturn|       171|    12|   225|      electric|125|    76|    76|   67|           null|              null|water|\n",
      "|    marill|       183|     4|    85|         fairy| 70|    20|    50|   40|           null|              null|water|\n",
      "| azumarill|       184|     8|   285|         fairy|100|    60|    80|   50|           null|              null|water|\n",
      "|  politoed|       186|    11|   339|          None| 90|    90|   100|   70|           null|              null|water|\n",
      "|    wooper|       194|     4|    85|        ground| 55|    25|    25|   15|           null|              null|water|\n",
      "|  quagsire|       195|    14|   750|        ground| 95|    65|    65|   35|           null|              null|water|\n",
      "+----------+----------+------+------+--------------+---+------+------+-----+---------------+------------------+-----+\n",
      "only showing top 20 rows\n",
      "\n"
     ]
    }
   ],
   "source": [
    "session.table('pokemon').show()"
   ]
  },
  {
   "cell_type": "code",
   "execution_count": 109,
   "id": "8871f1e9",
   "metadata": {},
   "outputs": [
    {
     "name": "stdout",
     "output_type": "stream",
     "text": [
      "+----------+-------+\n",
      "|      type|records|\n",
      "+----------+-------+\n",
      "| grass_new|     86|\n",
      "|    normal|    109|\n",
      "|       bug|     75|\n",
      "|     grass|     86|\n",
      "|     water|    123|\n",
      "|      dark|     35|\n",
      "|   psychic|     57|\n",
      "|  electric|     48|\n",
      "|     steel|     30|\n",
      "|    poison|     35|\n",
      "|      rock|     50|\n",
      "|      fire|     58|\n",
      "|  fighting|     34|\n",
      "|    dragon|     30|\n",
      "|dragon_new|     30|\n",
      "|  fire_new|     58|\n",
      "|     ghost|     30|\n",
      "|       ice|     27|\n",
      "|    ground|     35|\n",
      "| fairy_new|     21|\n",
      "+----------+-------+\n",
      "only showing top 20 rows\n",
      "\n"
     ]
    }
   ],
   "source": [
    "session.table('pokemon').groupby('type').agg(F.count('name').alias('records')).show()"
   ]
  },
  {
   "cell_type": "code",
   "execution_count": 8,
   "id": "98796802",
   "metadata": {},
   "outputs": [
    {
     "data": {
      "text/plain": [
       "22.36180877685547"
      ]
     },
     "execution_count": 8,
     "metadata": {},
     "output_type": "execute_result"
    }
   ],
   "source": [
    "### SIZE OF DATAFRAME ESTIMATED ###\n",
    "\n",
    "raw_size = session._jvm.org.apache.spark.util.SizeEstimator.estimate(session.table('pokemon')._jdf)\n",
    "mb_size = raw_size / (1024*1024)\n",
    "mb_size"
   ]
  },
  {
   "cell_type": "markdown",
   "id": "f9d3ece2",
   "metadata": {},
   "source": [
    "## Working with FileSystem"
   ]
  },
  {
   "cell_type": "code",
   "execution_count": 12,
   "id": "a3898da4",
   "metadata": {},
   "outputs": [
    {
     "data": {
      "text/plain": [
       "True"
      ]
     },
     "execution_count": 12,
     "metadata": {},
     "output_type": "execute_result"
    }
   ],
   "source": [
    "fs = (session._jvm.org\n",
    "      .apache.hadoop\n",
    "      .fs.FileSystem\n",
    "      .get(session._jsc.hadoopConfiguration())\n",
    "      )\n",
    "\n",
    "fs.exists(session._jvm.org.apache.hadoop.fs.Path(\"./spark-warehouse/pokemon/\"))"
   ]
  },
  {
   "cell_type": "code",
   "execution_count": 14,
   "id": "8b5ab118",
   "metadata": {},
   "outputs": [
    {
     "data": {
      "text/plain": [
       "['type=bug',\n",
       " 'type=dark',\n",
       " 'type=dragon',\n",
       " 'type=electric',\n",
       " 'type=fairy',\n",
       " 'type=fighting',\n",
       " 'type=fire',\n",
       " 'type=flying',\n",
       " 'type=ghost',\n",
       " 'type=grass',\n",
       " 'type=ground',\n",
       " 'type=ice',\n",
       " 'type=normal',\n",
       " 'type=poison',\n",
       " 'type=psychic',\n",
       " 'type=rock',\n",
       " 'type=steel',\n",
       " 'type=water',\n",
       " '_SUCCESS']"
      ]
     },
     "execution_count": 14,
     "metadata": {},
     "output_type": "execute_result"
    }
   ],
   "source": [
    "path = \"./spark-warehouse/pokemon/\"\n",
    "fs = session._jvm.org.apache.hadoop.fs.FileSystem.get(session._jsc.hadoopConfiguration())\n",
    "list_status = fs.listStatus(session._jvm.org.apache.hadoop.fs.Path(path))\n",
    "result = [file.getPath().getName() for file in list_status]\n",
    "\n",
    "result"
   ]
  },
  {
   "cell_type": "code",
   "execution_count": 15,
   "id": "342c52ef",
   "metadata": {
    "scrolled": true
   },
   "outputs": [
    {
     "name": "stdout",
     "output_type": "stream",
     "text": [
      "file:/home/jovyan/work/spark-warehouse/pokemon/type=bug 512\n",
      "file:/home/jovyan/work/spark-warehouse/pokemon/type=dark 512\n",
      "file:/home/jovyan/work/spark-warehouse/pokemon/type=dragon 512\n",
      "file:/home/jovyan/work/spark-warehouse/pokemon/type=electric 512\n",
      "file:/home/jovyan/work/spark-warehouse/pokemon/type=fairy 512\n",
      "file:/home/jovyan/work/spark-warehouse/pokemon/type=fighting 512\n",
      "file:/home/jovyan/work/spark-warehouse/pokemon/type=fire 512\n",
      "file:/home/jovyan/work/spark-warehouse/pokemon/type=flying 512\n",
      "file:/home/jovyan/work/spark-warehouse/pokemon/type=ghost 512\n",
      "file:/home/jovyan/work/spark-warehouse/pokemon/type=grass 512\n",
      "file:/home/jovyan/work/spark-warehouse/pokemon/type=ground 512\n",
      "file:/home/jovyan/work/spark-warehouse/pokemon/type=ice 512\n",
      "file:/home/jovyan/work/spark-warehouse/pokemon/type=normal 512\n",
      "file:/home/jovyan/work/spark-warehouse/pokemon/type=poison 512\n",
      "file:/home/jovyan/work/spark-warehouse/pokemon/type=psychic 512\n",
      "file:/home/jovyan/work/spark-warehouse/pokemon/type=rock 512\n",
      "file:/home/jovyan/work/spark-warehouse/pokemon/type=steel 512\n",
      "file:/home/jovyan/work/spark-warehouse/pokemon/type=water 512\n",
      "file:/home/jovyan/work/spark-warehouse/pokemon/_SUCCESS 0\n"
     ]
    }
   ],
   "source": [
    "sc = session\n",
    "\n",
    "hadoop = sc._jvm.org.apache.hadoop\n",
    "\n",
    "fs = hadoop.fs.FileSystem\n",
    "conf = hadoop.conf.Configuration() \n",
    "path = hadoop.fs.Path(\"./spark-warehouse/pokemon/\")\n",
    "\n",
    "for f in fs.get(conf).listStatus(path):\n",
    "    print(f.getPath(), f.getLen())"
   ]
  },
  {
   "cell_type": "code",
   "execution_count": null,
   "id": "96736b45-2755-46ba-8ea4-bbf5fade132f",
   "metadata": {},
   "outputs": [],
   "source": []
  },
  {
   "cell_type": "code",
   "execution_count": 23,
   "id": "2ab5a8f1-09a1-4788-8e39-d238bcd8fabb",
   "metadata": {},
   "outputs": [
    {
     "name": "stdout",
     "output_type": "stream",
     "text": [
      "2023-11-11 15:01:40\n"
     ]
    }
   ],
   "source": [
    "import time\n",
    "\n",
    "fs = session._jvm.org.apache.hadoop.fs.FileSystem.get(session._jsc.hadoopConfiguration())\n",
    "path =  session._jvm.org.apache.hadoop.fs.Path(\"./spark-warehouse/pokemon/\")\n",
    "\n",
    "time_ts = fs.getFileStatus(path).getModificationTime()\n",
    "print(time.strftime(\"%Y-%m-%d %H:%M:%S\", time.localtime(time_ts / 1000))) "
   ]
  },
  {
   "cell_type": "code",
   "execution_count": 144,
   "id": "d39312e3",
   "metadata": {},
   "outputs": [
    {
     "data": {
      "text/plain": [
       "False"
      ]
     },
     "execution_count": 144,
     "metadata": {},
     "output_type": "execute_result"
    }
   ],
   "source": [
    "FS = fs.get(conf)\n",
    "FS.delete(hadoop.fs.Path('/pokemon/type=rock/'), True) "
   ]
  }
 ],
 "metadata": {
  "kernelspec": {
   "display_name": "Python 3 (ipykernel)",
   "language": "python",
   "name": "python3"
  },
  "language_info": {
   "codemirror_mode": {
    "name": "ipython",
    "version": 3
   },
   "file_extension": ".py",
   "mimetype": "text/x-python",
   "name": "python",
   "nbconvert_exporter": "python",
   "pygments_lexer": "ipython3",
   "version": "3.11.6"
  }
 },
 "nbformat": 4,
 "nbformat_minor": 5
}
